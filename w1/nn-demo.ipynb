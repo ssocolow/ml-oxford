{
 "cells": [
  {
   "cell_type": "markdown",
   "metadata": {},
   "source": [
    "# Feed Forward NN with Backpropagation"
   ]
  },
  {
   "cell_type": "markdown",
   "metadata": {},
   "source": [
    "Assignment info: You can try to **implement a two-layer neural network using just basic Python and numpy** (so no torch, TensorFlow, Jax, etc.) from scratch. The network takes as **input a vector of size 64 and outputs a vector of size 2**. The first hidden unit has **32 neurons and a ReLU activation, while the output has a softmax activation**. The loss function is the categorical cross-entropy.What really matters here is that you try to code the backpropagation phase manually. That helps a lot in understanding how neural networks work!"
   ]
  },
  {
   "cell_type": "code",
   "execution_count": null,
   "metadata": {},
   "outputs": [],
   "source": [
    "# using numpy\n",
    "import numpy as np"
   ]
  },
  {
   "cell_type": "code",
   "execution_count": null,
   "metadata": {},
   "outputs": [],
   "source": [
    "# define a class for a layer\n",
    "# layer.forward can take input and return output using its weights, biases, and activation function\n",
    "class Layer:\n",
    "    def __init__(self, input_size, output_size, activation_function):\n",
    "        self.input_size = input_size\n",
    "        self.output_size = output_size\n",
    "        self.activation_function = activation_function\n",
    "        self.weights = np.random.rand(input_size, output_size)\n",
    "        self.biases = np.random.rand(output_size)\n",
    "    \n",
    "    def forward(self, x):\n",
    "        # return self.activation_function(np.dot(x, self.weights) + self.biases)\n",
    "        weighted_sum = np.dot(x, self.weights)\n",
    "        with_bias = weighted_sum + self.biases\n",
    "        with_activation = self.activation_function(with_bias)\n",
    "\n",
    "        return with_activation\n",
    "    \n",
    "    def backpropagate(self, predicted, actual):\n",
    "        # assign a blame to neurons proportional to their weight\n",
    "        \n"
   ]
  }
 ],
 "metadata": {
  "kernelspec": {
   "display_name": "base",
   "language": "python",
   "name": "python3"
  },
  "language_info": {
   "name": "python",
   "version": "3.12.4"
  }
 },
 "nbformat": 4,
 "nbformat_minor": 2
}
