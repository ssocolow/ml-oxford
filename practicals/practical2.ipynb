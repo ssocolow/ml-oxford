{
 "cells": [
  {
   "cell_type": "markdown",
   "metadata": {},
   "source": [
    "# Practical 2: Generative and Discriminative Models"
   ]
  },
  {
   "cell_type": "markdown",
   "metadata": {},
   "source": [
    "## Making Naive Bayes"
   ]
  },
  {
   "cell_type": "code",
   "execution_count": 76,
   "metadata": {},
   "outputs": [
    {
     "name": "stdout",
     "output_type": "stream",
     "text": [
      "(120, 4)\n",
      "(120,)\n",
      "[[5.1 3.5 1.4 0.2]\n",
      " [4.9 3.  1.4 0.2]\n",
      " [4.7 3.2 1.3 0.2]\n",
      " [4.6 3.1 1.5 0.2]\n",
      " [5.  3.6 1.4 0.2]\n",
      " [5.4 3.9 1.7 0.4]\n",
      " [4.6 3.4 1.4 0.3]\n",
      " [5.  3.4 1.5 0.2]\n",
      " [4.4 2.9 1.4 0.2]\n",
      " [4.9 3.1 1.5 0.1]\n",
      " [5.4 3.7 1.5 0.2]\n",
      " [4.8 3.4 1.6 0.2]\n",
      " [4.8 3.  1.4 0.1]\n",
      " [4.3 3.  1.1 0.1]\n",
      " [5.8 4.  1.2 0.2]\n",
      " [5.7 4.4 1.5 0.4]\n",
      " [5.4 3.9 1.3 0.4]\n",
      " [5.1 3.5 1.4 0.3]\n",
      " [5.7 3.8 1.7 0.3]\n",
      " [5.1 3.8 1.5 0.3]\n",
      " [5.4 3.4 1.7 0.2]\n",
      " [5.1 3.7 1.5 0.4]\n",
      " [4.6 3.6 1.  0.2]\n",
      " [5.1 3.3 1.7 0.5]\n",
      " [4.8 3.4 1.9 0.2]\n",
      " [5.  3.  1.6 0.2]\n",
      " [5.  3.4 1.6 0.4]\n",
      " [5.2 3.5 1.5 0.2]\n",
      " [5.2 3.4 1.4 0.2]\n",
      " [4.7 3.2 1.6 0.2]\n",
      " [4.8 3.1 1.6 0.2]\n",
      " [5.4 3.4 1.5 0.4]\n",
      " [5.2 4.1 1.5 0.1]\n",
      " [5.5 4.2 1.4 0.2]\n",
      " [4.9 3.1 1.5 0.2]\n",
      " [5.  3.2 1.2 0.2]\n",
      " [5.5 3.5 1.3 0.2]\n",
      " [4.9 3.6 1.4 0.1]\n",
      " [4.4 3.  1.3 0.2]\n",
      " [5.1 3.4 1.5 0.2]\n",
      " [5.  3.5 1.3 0.3]\n",
      " [4.5 2.3 1.3 0.3]\n",
      " [4.4 3.2 1.3 0.2]\n",
      " [5.  3.5 1.6 0.6]\n",
      " [5.1 3.8 1.9 0.4]\n",
      " [4.8 3.  1.4 0.3]\n",
      " [5.1 3.8 1.6 0.2]\n",
      " [4.6 3.2 1.4 0.2]\n",
      " [5.3 3.7 1.5 0.2]\n",
      " [5.  3.3 1.4 0.2]\n",
      " [7.  3.2 4.7 1.4]\n",
      " [6.4 3.2 4.5 1.5]\n",
      " [6.9 3.1 4.9 1.5]\n",
      " [5.5 2.3 4.  1.3]\n",
      " [6.5 2.8 4.6 1.5]\n",
      " [5.7 2.8 4.5 1.3]\n",
      " [6.3 3.3 4.7 1.6]\n",
      " [4.9 2.4 3.3 1. ]\n",
      " [6.6 2.9 4.6 1.3]\n",
      " [5.2 2.7 3.9 1.4]\n",
      " [5.  2.  3.5 1. ]\n",
      " [5.9 3.  4.2 1.5]\n",
      " [6.  2.2 4.  1. ]\n",
      " [6.1 2.9 4.7 1.4]\n",
      " [5.6 2.9 3.6 1.3]\n",
      " [6.7 3.1 4.4 1.4]\n",
      " [5.6 3.  4.5 1.5]\n",
      " [5.8 2.7 4.1 1. ]\n",
      " [6.2 2.2 4.5 1.5]\n",
      " [5.6 2.5 3.9 1.1]\n",
      " [5.9 3.2 4.8 1.8]\n",
      " [6.1 2.8 4.  1.3]\n",
      " [6.3 2.5 4.9 1.5]\n",
      " [6.1 2.8 4.7 1.2]\n",
      " [6.4 2.9 4.3 1.3]\n",
      " [6.6 3.  4.4 1.4]\n",
      " [6.8 2.8 4.8 1.4]\n",
      " [6.7 3.  5.  1.7]\n",
      " [6.  2.9 4.5 1.5]\n",
      " [5.7 2.6 3.5 1. ]\n",
      " [5.5 2.4 3.8 1.1]\n",
      " [5.5 2.4 3.7 1. ]\n",
      " [5.8 2.7 3.9 1.2]\n",
      " [6.  2.7 5.1 1.6]\n",
      " [5.4 3.  4.5 1.5]\n",
      " [6.  3.4 4.5 1.6]\n",
      " [6.7 3.1 4.7 1.5]\n",
      " [6.3 2.3 4.4 1.3]\n",
      " [5.6 3.  4.1 1.3]\n",
      " [5.5 2.5 4.  1.3]\n",
      " [5.5 2.6 4.4 1.2]\n",
      " [6.1 3.  4.6 1.4]\n",
      " [5.8 2.6 4.  1.2]\n",
      " [5.  2.3 3.3 1. ]\n",
      " [5.6 2.7 4.2 1.3]\n",
      " [5.7 3.  4.2 1.2]\n",
      " [5.7 2.9 4.2 1.3]\n",
      " [6.2 2.9 4.3 1.3]\n",
      " [5.1 2.5 3.  1.1]\n",
      " [5.7 2.8 4.1 1.3]\n",
      " [6.3 3.3 6.  2.5]\n",
      " [5.8 2.7 5.1 1.9]\n",
      " [7.1 3.  5.9 2.1]\n",
      " [6.3 2.9 5.6 1.8]\n",
      " [6.5 3.  5.8 2.2]\n",
      " [7.6 3.  6.6 2.1]\n",
      " [4.9 2.5 4.5 1.7]\n",
      " [7.3 2.9 6.3 1.8]\n",
      " [6.7 2.5 5.8 1.8]\n",
      " [7.2 3.6 6.1 2.5]\n",
      " [6.5 3.2 5.1 2. ]\n",
      " [6.4 2.7 5.3 1.9]\n",
      " [6.8 3.  5.5 2.1]\n",
      " [5.7 2.5 5.  2. ]\n",
      " [5.8 2.8 5.1 2.4]\n",
      " [6.4 3.2 5.3 2.3]\n",
      " [6.5 3.  5.5 1.8]\n",
      " [7.7 3.8 6.7 2.2]\n",
      " [7.7 2.6 6.9 2.3]\n",
      " [6.  2.2 5.  1.5]\n",
      " [6.9 3.2 5.7 2.3]\n",
      " [5.6 2.8 4.9 2. ]\n",
      " [7.7 2.8 6.7 2. ]\n",
      " [6.3 2.7 4.9 1.8]\n",
      " [6.7 3.3 5.7 2.1]\n",
      " [7.2 3.2 6.  1.8]\n",
      " [6.2 2.8 4.8 1.8]\n",
      " [6.1 3.  4.9 1.8]\n",
      " [6.4 2.8 5.6 2.1]\n",
      " [7.2 3.  5.8 1.6]\n",
      " [7.4 2.8 6.1 1.9]\n",
      " [7.9 3.8 6.4 2. ]\n",
      " [6.4 2.8 5.6 2.2]\n",
      " [6.3 2.8 5.1 1.5]\n",
      " [6.1 2.6 5.6 1.4]\n",
      " [7.7 3.  6.1 2.3]\n",
      " [6.3 3.4 5.6 2.4]\n",
      " [6.4 3.1 5.5 1.8]\n",
      " [6.  3.  4.8 1.8]\n",
      " [6.9 3.1 5.4 2.1]\n",
      " [6.7 3.1 5.6 2.4]\n",
      " [6.9 3.1 5.1 2.3]\n",
      " [5.8 2.7 5.1 1.9]\n",
      " [6.8 3.2 5.9 2.3]\n",
      " [6.7 3.3 5.7 2.5]\n",
      " [6.7 3.  5.2 2.3]\n",
      " [6.3 2.5 5.  1.9]\n",
      " [6.5 3.  5.2 2. ]\n",
      " [6.2 3.4 5.4 2.3]\n",
      " [5.9 3.  5.1 1.8]] [0 0 0 0 0 0 0 0 0 0 0 0 0 0 0 0 0 0 0 0 0 0 0 0 0 0 0 0 0 0 0 0 0 0 0 0 0\n",
      " 0 0 0 0 0 0 0 0 0 0 0 0 0 1 1 1 1 1 1 1 1 1 1 1 1 1 1 1 1 1 1 1 1 1 1 1 1\n",
      " 1 1 1 1 1 1 1 1 1 1 1 1 1 1 1 1 1 1 1 1 1 1 1 1 1 1 2 2 2 2 2 2 2 2 2 2 2\n",
      " 2 2 2 2 2 2 2 2 2 2 2 2 2 2 2 2 2 2 2 2 2 2 2 2 2 2 2 2 2 2 2 2 2 2 2 2 2\n",
      " 2 2]\n"
     ]
    }
   ],
   "source": [
    "from sklearn.datasets import load_iris\n",
    "import numpy as np\n",
    "\n",
    "iris = load_iris()\n",
    "X, y = iris['data'], iris['target']\n",
    "\n",
    "N, D = X.shape\n",
    "Ntrain = int(0.8 * N)\n",
    "shuffler = np.random.permutation(N)\n",
    "Xtrain = X[shuffler[:Ntrain]]\n",
    "ytrain = y[shuffler[:Ntrain]]\n",
    "print(Xtrain.shape)\n",
    "print(ytrain.shape)\n",
    "Xtest = X[shuffler[Ntrain:]]\n",
    "ytest = y[shuffler[Ntrain:]]\n",
    "\n",
    "print(X, y)\n",
    "# print(y == 0)\n",
    "# print(X[y == 0].shape)\n",
    "# print(X.shape)"
   ]
  },
  {
   "cell_type": "code",
   "execution_count": 5,
   "metadata": {},
   "outputs": [
    {
     "name": "stdout",
     "output_type": "stream",
     "text": [
      "X shape: (232, 16)\n",
      "y shape: (232,)\n",
      "[1. 0. 0. 0. 1. 1. 0. 0. 0. 1. 0. 1. 0. 1. 1. 0. 1. 0. 0. 0. 1. 0. 1. 1.\n",
      " 1. 0. 1. 1. 0. 0. 1. 0. 0. 0. 1. 0. 1. 1. 0. 1. 0. 1. 0. 0. 0. 1. 0. 0.\n",
      " 1. 0. 1. 0. 1. 1. 1. 0. 1. 0. 0. 0. 1. 0. 0. 1. 0. 0. 1. 1. 0. 0. 1. 0.\n",
      " 1. 0. 1. 0. 0. 1. 0. 0. 0. 1. 1. 1. 0. 0. 1. 0. 1. 0. 0. 0. 1. 1. 0. 1.\n",
      " 1. 0. 0. 1. 0. 1. 1. 1. 1. 0. 1. 0. 1. 1. 1. 1. 0. 1. 0. 1. 1. 0. 0. 1.\n",
      " 1. 0. 0. 0. 1. 0. 0. 0. 0. 0. 1. 0. 1. 0. 1. 0. 1. 1. 0. 0. 1. 1. 1. 0.\n",
      " 0. 1. 1. 1. 1. 1. 1. 0. 1. 1. 1. 1. 1. 1. 1. 1. 0. 1. 1. 0. 0. 0. 0. 1.\n",
      " 1. 1. 0. 0. 1. 0. 1. 1. 1. 1. 1. 0. 1. 1. 1. 1. 0. 1. 0. 0. 1. 0. 1. 1.\n",
      " 0. 0. 0. 0. 1. 1. 1. 0. 0. 0. 0. 0. 0. 1. 1. 1. 1. 1. 1. 1. 1. 0. 1. 1.\n",
      " 1. 1. 1. 1. 1. 1. 0. 1. 1. 0. 1. 0. 0. 0. 1. 0.]\n"
     ]
    }
   ],
   "source": [
    "import _pickle as cp\n",
    "import matplotlib.pyplot as plt\n",
    "import numpy as np\n",
    "X, y = cp.load(open('voting.pickle', 'rb'))\n",
    "\n",
    "N, D = X.shape\n",
    "N_train = int(0.8 * N)\n",
    "N_test = N - N_train\n",
    "X_train = X[:N_train]\n",
    "y_train = y[:N_train]\n",
    "X_test = X[N_train:]\n",
    "y_test = y[N_train:]\n",
    "\n",
    "print(f\"X shape: {X.shape}\")\n",
    "print(f\"y shape: {y.shape}\")\n",
    "print(y)"
   ]
  },
  {
   "cell_type": "code",
   "execution_count": 117,
   "metadata": {},
   "outputs": [],
   "source": [
    "import math\n",
    "\n",
    "class NBC:\n",
    "    def __init__(self, feature_types, num_classes):\n",
    "        self.feature_types = feature_types\n",
    "        self.num_classes = num_classes\n",
    "        self.params = []\n",
    "        self.epsilon = 1e-6 # to avoid divide by zero\n",
    "        self.priors = []\n",
    "    \n",
    "    # create univariate Gaussian distributions with (mean, variance)\n",
    "    # set of distributions for EACH CLASS\n",
    "    def fit(self, Xtrain, ytrain):\n",
    "        for i in range(self.num_classes):\n",
    "            class_indicies = (ytrain == i)\n",
    "            # print(class_indicies.shape)\n",
    "            # print(X.shape)\n",
    "            X_of_class = Xtrain[class_indicies]\n",
    "            means = np.mean(X_of_class, axis=0)\n",
    "            # print(means)\n",
    "            stds = np.std(X_of_class, axis=0) + self.epsilon\n",
    "            # print(stds)\n",
    "            self.params.append((means, stds))\n",
    "            self.priors.append(np.mean(ytrain == i))\n",
    "    \n",
    "    def GaussianProb(means, stds, value):\n",
    "        return (1.0 / math.sqrt(2.0 * math.pi)) * np.exp((-0.5) * ((value - means)/stds)**2)\n",
    "    \n",
    "    # compute the class conditional probabilities for the new inputs on all classes\n",
    "    # then return the classes with the largest probability for each data point\n",
    "    def predict(self, Xtest):\n",
    "        class_probs = np.zeros((Xtest.shape[0], self.num_classes))\n",
    "\n",
    "        # calculate the probability that we would observe X given our parameters for each class\n",
    "        for i in range(self.num_classes):\n",
    "            param_means, param_stds = self.params[i]\n",
    "\n",
    "            # matrix same shape as Xtest\n",
    "            # meaning prob(this data comes from class i)\n",
    "            probs = NBC.GaussianProb(param_means, param_stds, Xtest)\n",
    "            # print(probs)\n",
    "            logprobs = np.log(probs)\n",
    "\n",
    "            # adding each row together -> meaning the prob row x's flower is class i\n",
    "            probClassI = np.sum(logprobs, axis=1) \n",
    "            # add the prior information\n",
    "            wpriors = probClassI + np.log(self.priors[i])\n",
    "\n",
    "            # print(wpriors)\n",
    "\n",
    "            # array with \n",
    "            # totals = np.sum(logprobs, axis=1) + np.log(self.priors[i])\n",
    "            # print(total)\n",
    "            class_probs[:,i] = wpriors\n",
    "\n",
    "        # print(class_probs)\n",
    "        return np.argmax(class_probs, axis=1)\n",
    "\n"
   ]
  },
  {
   "cell_type": "code",
   "execution_count": 118,
   "metadata": {},
   "outputs": [
    {
     "name": "stdout",
     "output_type": "stream",
     "text": [
      "(120, 4) (120,)\n",
      "(30, 4) (30,)\n",
      "Params: [(array([5.00909091, 3.42045455, 1.45      , 0.24545455]), array([0.36793021, 0.37994091, 0.16306819, 0.10325388])), (array([5.9       , 2.73714286, 4.16571429, 1.29428571]), array([0.54037124, 0.3439991 , 0.47143823, 0.19264109])), (array([6.57317073, 2.97804878, 5.56341463, 2.0195122 ]), array([0.61842717, 0.30724063, 0.51074226, 0.28475122]))]\n",
      "Priors: [0.36666666666666664, 0.2916666666666667, 0.3416666666666667]\n",
      "[2 2 1 2 1 1 1 2 0 1 2 1 1 1 1 0 1 2 0 1 1 1 2 2 0 2 0 1 0 1]\n",
      "0.8666666666666667\n"
     ]
    }
   ],
   "source": [
    "nbc = NBC(feature_types=['r','r','r','r'], num_classes=3)\n",
    "print(Xtrain.shape, ytrain.shape)\n",
    "print(Xtest.shape, ytest.shape)\n",
    "nbc.fit(Xtrain, ytrain)\n",
    "print(f\"Params: {nbc.params}\")\n",
    "print(f\"Priors: {nbc.priors}\")\n",
    "# print(Xtest)\n",
    "yhat = nbc.predict(Xtest)\n",
    "test_accuracy = np.mean(yhat == ytest)\n",
    "print(ytest)\n",
    "print(test_accuracy)"
   ]
  },
  {
   "cell_type": "code",
   "execution_count": 119,
   "metadata": {},
   "outputs": [
    {
     "data": {
      "text/plain": [
       "0.9"
      ]
     },
     "execution_count": 119,
     "metadata": {},
     "output_type": "execute_result"
    }
   ],
   "source": [
    "from sklearn.linear_model import LogisticRegression\n",
    "\n",
    "logRegModel = LogisticRegression().fit(Xtrain, ytrain)\n",
    "logRegModel.score(Xtest, ytest)"
   ]
  },
  {
   "cell_type": "markdown",
   "metadata": {},
   "source": [
    "## Handin 2: Finding the MSE (Mean Squared Error)"
   ]
  },
  {
   "cell_type": "code",
   "execution_count": 42,
   "metadata": {},
   "outputs": [
    {
     "name": "stdout",
     "output_type": "stream",
     "text": [
      "Mean: 5.878764675855028\n",
      "Average Sum Diffs Squared: train 0.7767772386501117 -- test 0.8138573000045535\n"
     ]
    }
   ],
   "source": [
    "# First find the mean\n",
    "meany = np.average(y_train)\n",
    "print(f\"Mean: {meany}\")\n",
    "\n",
    "def mse(predicted, expected):\n",
    "    diffs = predicted - expected\n",
    "    squared = np.square(diffs)\n",
    "    avg = np.average(squared)\n",
    "    return avg\n",
    "# then calculate the sum of squared differences from the mean\n",
    "# diffs_train = y_train - meany\n",
    "# diffs_test = y_test - meany\n",
    "# # print(f\"Diffs: train {diffs_train} -- test {diffs_test}\")\n",
    "# diffs_squared_train = np.square(diffs_train)\n",
    "# diffs_squared_test = np.square(diffs_test)\n",
    "# # print(f\"Diffs squared: train {diffs_squared_train} -- test {diffs_squared_test}\")\n",
    "# avg_diffs_squared_train = np.average(diffs_squared_train)\n",
    "# avg_diffs_squared_test = np.average(diffs_squared_test)\n",
    "print(f\"Average Sum Diffs Squared: train {mse(y_train, meany)} -- test {mse(y_test, meany)}\")"
   ]
  },
  {
   "cell_type": "markdown",
   "metadata": {},
   "source": [
    "## Handin 3: Standardizing Dataset and Finding Least Squares Regression"
   ]
  },
  {
   "cell_type": "code",
   "execution_count": 58,
   "metadata": {},
   "outputs": [
    {
     "name": "stdout",
     "output_type": "stream",
     "text": [
      "[[1 2 3]\n",
      " [4 5 6]\n",
      " [7 8 9]]\n",
      "[[1. 2. 3. 1.]\n",
      " [4. 5. 6. 1.]\n",
      " [7. 8. 9. 1.]]\n"
     ]
    }
   ],
   "source": [
    "def find_standardize_params(matrix):\n",
    "    mean = np.average(matrix, axis=0)\n",
    "    std = np.std(matrix, axis=0)\n",
    "    return mean, std\n",
    "\n",
    "def standardize(mat, params):\n",
    "    mean, std = params\n",
    "    return (mat - mean) / std\n",
    "\n",
    "# add bias all ones to X's\n",
    "def addBias(matrix):\n",
    "    bias = np.ones((matrix.shape[0], 1))\n",
    "    return np.hstack((matrix, bias))\n",
    "\n",
    "\n",
    "test = np.arange(1,10).reshape((3,3))\n",
    "print(test)\n",
    "params = find_standardize_params(test)\n",
    "standardize(test, params)\n",
    "print(addBias(test))"
   ]
  },
  {
   "cell_type": "code",
   "execution_count": 89,
   "metadata": {},
   "outputs": [
    {
     "name": "stdout",
     "output_type": "stream",
     "text": [
      "MSE: train 0.5639996173941925 -- test 0.5607292042283468\n"
     ]
    }
   ],
   "source": [
    "# meanX = np.average(X_train, axis=0)\n",
    "# print(meanX.shape)\n",
    "# stddev_X = np.std(X_train, axis=0)\n",
    "# stddev_y = np.std(y_train)\n",
    "\n",
    "# std_X_train = (X_train - meanX) / stddev_X\n",
    "# std_X_test = (X_test - meanX) / stddev_X\n",
    "# std_y_train = (X_train - meany) / stddev_y\n",
    "# std_y_test = (X_test - meany) / stddev_y\n",
    "\n",
    "# print(std_X_train)\n",
    "# print(std_y_train)\n",
    "\n",
    "# standardize all train and test data (using the train data for mean and std)\n",
    "stdparamsX = find_standardize_params(X_train)\n",
    "std_X_train = standardize(X_train, stdparamsX)\n",
    "std_X_test = standardize(X_test, stdparamsX)\n",
    "\n",
    "# stdparamsy = find_standardize_params(y_train)\n",
    "# std_y_train = standardize(y_train, stdparamsy)\n",
    "# std_y_test = standardize(y_test, stdparamsy)\n",
    "\n",
    "std_X_train_wbias = addBias(std_X_train)\n",
    "std_X_test_wbias = addBias(std_X_test)\n",
    "\n",
    "# least squares prediction\n",
    "# y_pred = Xw = X((X_TX)^-1)X_Ty\n",
    "# my mistake was standardizing the features X and response y when I don't have have to standardized y (response)\n",
    "w = (np.linalg.inv(std_X_train_wbias.transpose() @ std_X_train_wbias) @ std_X_train_wbias.transpose()) @ y_train\n",
    "y_pred_train = std_X_train_wbias @ w\n",
    "y_pred_test = std_X_test_wbias @ w\n",
    "\n",
    "# print(y_pred_train)\n",
    "\n",
    "print(f\"MSE: train {mse(y_pred_train, y_train)} -- test {mse(y_pred_test, y_test)}\")\n",
    "# print(np.mean(np.square(y_train - y_pred_train)))\n",
    "# print(np.mean(np.square(y_test - y_pred_test)))"
   ]
  },
  {
   "cell_type": "markdown",
   "metadata": {},
   "source": [
    "## Handin 4: Learning curves"
   ]
  },
  {
   "cell_type": "markdown",
   "metadata": {},
   "source": [
    "> Let us see if the linear model is overfitting or underfitting. Since the dataset is somewhat large\n",
    "and there are only 11 features, our guess should be that it may either be underfitting or be\n",
    "about right.\n",
    "Starting with 20 datapoints, we’ll use training datasets of increasing size, in increments of 20,\n",
    "up to about 600 datapoints. For each case train the linear model only using the first n elements\n",
    "of the training data. Calculate the training error (on the data used) and the test error (on the\n",
    "full test set). Plot the training error and test error as a function of the size of the dataset used\n",
    "for training.\n",
    "Handin 4: Report the learning curves plot. Also, explain whether you think the model is\n",
    "underfitting or not, and how much data you need before getting the optimal test error."
   ]
  },
  {
   "cell_type": "code",
   "execution_count": 103,
   "metadata": {},
   "outputs": [
    {
     "data": {
      "image/png": "[encoded data removed]",
      "text/plain": [
       "<Figure size 640x480 with 1 Axes>"
      ]
     },
     "metadata": {},
     "output_type": "display_data"
    }
   ],
   "source": [
    "# on the set used to train\n",
    "training_errors = []\n",
    "# on the full test set\n",
    "test_errors = []\n",
    "\n",
    "sizes = [size for size in range(20, 620, 20)]\n",
    "\n",
    "# returns the vector of weights from least squares regression\n",
    "def train(X, y):\n",
    "    return np.linalg.inv(X.transpose() @ X) @ X.transpose() @ y\n",
    "\n",
    "for size in sizes:\n",
    "    # get the size of data we want to work with\n",
    "    features = std_X_train_wbias[:size, :]\n",
    "    response = y_train[:size]\n",
    "\n",
    "    # calculate the best weights\n",
    "    w = train(features, response)\n",
    "    # print(w)\n",
    "    # find the training error\n",
    "    y_train_pred = features @ w\n",
    "    training_errors.append(mse(y_train_pred, response))\n",
    "\n",
    "    # find the test error\n",
    "    y_test_pred = std_X_test_wbias @ w\n",
    "    # print(y_test_pred)\n",
    "    test_errors.append(mse(y_test_pred, y_test))\n",
    "\n",
    "    # print(features.shape, response.shape)\n",
    "\n",
    "# plot both train and test learning curves\n",
    "plt.plot(sizes, training_errors, label = \"training error\")\n",
    "plt.plot(sizes, test_errors, label = \"test error\")\n",
    "plt.legend()\n",
    "plt.show()\n",
    "\n",
    "# print(training_errors)\n",
    "# print(test_errors)\n"
   ]
  },
  {
   "cell_type": "markdown",
   "metadata": {},
   "source": [
    "#### Final Qs:\n",
    "> explain whether you think the model is underfitting or not, and how much data you need before getting the optimal test error.\n",
    "\n",
    "The model is definitely not overfitting because test error is staying down with train error. I don't think the model is underfitting either because it isn't doing worse on more data, it appears to have plateaued at a min-test MSE."
   ]
  }
 ],
 "metadata": {
  "kernelspec": {
   "display_name": "base",
   "language": "python",
   "name": "python3"
  },
  "language_info": {
   "codemirror_mode": {
    "name": "ipython",
    "version": 3
   },
   "file_extension": ".py",
   "mimetype": "text/x-python",
   "name": "python",
   "nbconvert_exporter": "python",
   "pygments_lexer": "ipython3",
   "version": "3.12.2"
  }
 },
 "nbformat": 4,
 "nbformat_minor": 2
}
