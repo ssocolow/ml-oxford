{
 "cells": [
  {
   "cell_type": "markdown",
   "metadata": {},
   "source": [
    "# Practical 1"
   ]
  },
  {
   "cell_type": "markdown",
   "metadata": {},
   "source": [
    "### Link\n",
    "https://courses.cs.ox.ac.uk/pluginfile.php/14000/course/section/1444/practical1.pdf"
   ]
  },
  {
   "cell_type": "code",
   "execution_count": 19,
   "metadata": {},
   "outputs": [
    {
     "name": "stdout",
     "output_type": "stream",
     "text": [
      "X shape: (4898, 11)\n",
      "y shape: (4898,)\n"
     ]
    }
   ],
   "source": [
    "import _pickle as cp\n",
    "import matplotlib.pyplot as plt\n",
    "import numpy as np\n",
    "X, y = cp.load(open('winequality-white.pickle', 'rb'))\n",
    "\n",
    "N, D = X.shape\n",
    "N_train = int(0.8 * N)\n",
    "N_test = N - N_train\n",
    "X_train = X[:N_train]\n",
    "y_train = y[:N_train]\n",
    "X_test = X[N_train:]\n",
    "y_test = y[N_train:]\n",
    "\n",
    "print(f\"X shape: {X.shape}\")\n",
    "print(f\"y shape: {y.shape}\")"
   ]
  },
  {
   "cell_type": "markdown",
   "metadata": {},
   "source": [
    "## Handin 1: plotting y"
   ]
  },
  {
   "cell_type": "code",
   "execution_count": 16,
   "metadata": {},
   "outputs": [
    {
     "data": {
      "image/png": "[encoded data removed]",
      "text/plain": [
       "<Figure size 640x480 with 1 Axes>"
      ]
     },
     "metadata": {},
     "output_type": "display_data"
    }
   ],
   "source": [
    "plt.hist(y, bins=np.arange(2.5,10.5,1))\n",
    "plt.show()"
   ]
  },
  {
   "cell_type": "markdown",
   "metadata": {},
   "source": [
    "## Handin 2: Finding the MSE (Mean Squared Error)"
   ]
  },
  {
   "cell_type": "code",
   "execution_count": 42,
   "metadata": {},
   "outputs": [
    {
     "name": "stdout",
     "output_type": "stream",
     "text": [
      "Mean: 5.878764675855028\n",
      "Average Sum Diffs Squared: train 0.7767772386501117 -- test 0.8138573000045535\n"
     ]
    }
   ],
   "source": [
    "# First find the mean\n",
    "meany = np.average(y_train)\n",
    "print(f\"Mean: {meany}\")\n",
    "\n",
    "def mse(predicted, expected):\n",
    "    diffs = predicted - expected\n",
    "    squared = np.square(diffs)\n",
    "    avg = np.average(squared)\n",
    "    return avg\n",
    "# then calculate the sum of squared differences from the mean\n",
    "# diffs_train = y_train - meany\n",
    "# diffs_test = y_test - meany\n",
    "# # print(f\"Diffs: train {diffs_train} -- test {diffs_test}\")\n",
    "# diffs_squared_train = np.square(diffs_train)\n",
    "# diffs_squared_test = np.square(diffs_test)\n",
    "# # print(f\"Diffs squared: train {diffs_squared_train} -- test {diffs_squared_test}\")\n",
    "# avg_diffs_squared_train = np.average(diffs_squared_train)\n",
    "# avg_diffs_squared_test = np.average(diffs_squared_test)\n",
    "print(f\"Average Sum Diffs Squared: train {mse(y_train, meany)} -- test {mse(y_test, meany)}\")"
   ]
  },
  {
   "cell_type": "markdown",
   "metadata": {},
   "source": [
    "## Handin 3: Standardizing Dataset and Finding Least Squares Regression"
   ]
  },
  {
   "cell_type": "code",
   "execution_count": 58,
   "metadata": {},
   "outputs": [
    {
     "name": "stdout",
     "output_type": "stream",
     "text": [
      "[[1 2 3]\n",
      " [4 5 6]\n",
      " [7 8 9]]\n",
      "[[1. 2. 3. 1.]\n",
      " [4. 5. 6. 1.]\n",
      " [7. 8. 9. 1.]]\n"
     ]
    }
   ],
   "source": [
    "def find_standardize_params(matrix):\n",
    "    mean = np.average(matrix, axis=0)\n",
    "    std = np.std(matrix, axis=0)\n",
    "    return mean, std\n",
    "\n",
    "def standardize(mat, params):\n",
    "    mean, std = params\n",
    "    return (mat - mean) / std\n",
    "\n",
    "# add bias all ones to X's\n",
    "def addBias(matrix):\n",
    "    bias = np.ones((matrix.shape[0], 1))\n",
    "    return np.hstack((matrix, bias))\n",
    "\n",
    "\n",
    "test = np.arange(1,10).reshape((3,3))\n",
    "print(test)\n",
    "params = find_standardize_params(test)\n",
    "standardize(test, params)\n",
    "print(addBias(test))"
   ]
  },
  {
   "cell_type": "code",
   "execution_count": 89,
   "metadata": {},
   "outputs": [
    {
     "name": "stdout",
     "output_type": "stream",
     "text": [
      "MSE: train 0.5639996173941925 -- test 0.5607292042283468\n"
     ]
    }
   ],
   "source": [
    "# meanX = np.average(X_train, axis=0)\n",
    "# print(meanX.shape)\n",
    "# stddev_X = np.std(X_train, axis=0)\n",
    "# stddev_y = np.std(y_train)\n",
    "\n",
    "# std_X_train = (X_train - meanX) / stddev_X\n",
    "# std_X_test = (X_test - meanX) / stddev_X\n",
    "# std_y_train = (X_train - meany) / stddev_y\n",
    "# std_y_test = (X_test - meany) / stddev_y\n",
    "\n",
    "# print(std_X_train)\n",
    "# print(std_y_train)\n",
    "\n",
    "# standardize all train and test data (using the train data for mean and std)\n",
    "stdparamsX = find_standardize_params(X_train)\n",
    "std_X_train = standardize(X_train, stdparamsX)\n",
    "std_X_test = standardize(X_test, stdparamsX)\n",
    "\n",
    "# stdparamsy = find_standardize_params(y_train)\n",
    "# std_y_train = standardize(y_train, stdparamsy)\n",
    "# std_y_test = standardize(y_test, stdparamsy)\n",
    "\n",
    "std_X_train_wbias = addBias(std_X_train)\n",
    "std_X_test_wbias = addBias(std_X_test)\n",
    "\n",
    "# least squares prediction\n",
    "# y_pred = Xw = X((X_TX)^-1)X_Ty\n",
    "# my mistake was standardizing the features X and response y when I don't have have to standardized y (response)\n",
    "w = (np.linalg.inv(std_X_train_wbias.transpose() @ std_X_train_wbias) @ std_X_train_wbias.transpose()) @ y_train\n",
    "y_pred_train = std_X_train_wbias @ w\n",
    "y_pred_test = std_X_test_wbias @ w\n",
    "\n",
    "# print(y_pred_train)\n",
    "\n",
    "print(f\"MSE: train {mse(y_pred_train, y_train)} -- test {mse(y_pred_test, y_test)}\")\n",
    "# print(np.mean(np.square(y_train - y_pred_train)))\n",
    "# print(np.mean(np.square(y_test - y_pred_test)))"
   ]
  },
  {
   "cell_type": "markdown",
   "metadata": {},
   "source": [
    "## Handin 4: Learning curves"
   ]
  },
  {
   "cell_type": "markdown",
   "metadata": {},
   "source": [
    "> Let us see if the linear model is overfitting or underfitting. Since the dataset is somewhat large\n",
    "and there are only 11 features, our guess should be that it may either be underfitting or be\n",
    "about right.\n",
    "Starting with 20 datapoints, we’ll use training datasets of increasing size, in increments of 20,\n",
    "up to about 600 datapoints. For each case train the linear model only using the first n elements\n",
    "of the training data. Calculate the training error (on the data used) and the test error (on the\n",
    "full test set). Plot the training error and test error as a function of the size of the dataset used\n",
    "for training.\n",
    "Handin 4: Report the learning curves plot. Also, explain whether you think the model is\n",
    "underfitting or not, and how much data you need before getting the optimal test error."
   ]
  },
  {
   "cell_type": "code",
   "execution_count": 103,
   "metadata": {},
   "outputs": [
    {
     "data": {
      "image/png": "[encoded data removed]",
      "text/plain": [
       "<Figure size 640x480 with 1 Axes>"
      ]
     },
     "metadata": {},
     "output_type": "display_data"
    }
   ],
   "source": [
    "# on the set used to train\n",
    "training_errors = []\n",
    "# on the full test set\n",
    "test_errors = []\n",
    "\n",
    "sizes = [size for size in range(20, 620, 20)]\n",
    "\n",
    "# returns the vector of weights from least squares regression\n",
    "def train(X, y):\n",
    "    return np.linalg.inv(X.transpose() @ X) @ X.transpose() @ y\n",
    "\n",
    "for size in sizes:\n",
    "    # get the size of data we want to work with\n",
    "    features = std_X_train_wbias[:size, :]\n",
    "    response = y_train[:size]\n",
    "\n",
    "    # calculate the best weights\n",
    "    w = train(features, response)\n",
    "    # print(w)\n",
    "    # find the training error\n",
    "    y_train_pred = features @ w\n",
    "    training_errors.append(mse(y_train_pred, response))\n",
    "\n",
    "    # find the test error\n",
    "    y_test_pred = std_X_test_wbias @ w\n",
    "    # print(y_test_pred)\n",
    "    test_errors.append(mse(y_test_pred, y_test))\n",
    "\n",
    "    # print(features.shape, response.shape)\n",
    "\n",
    "# plot both train and test learning curves\n",
    "plt.plot(sizes, training_errors, label = \"training error\")\n",
    "plt.plot(sizes, test_errors, label = \"test error\")\n",
    "plt.legend()\n",
    "plt.show()\n",
    "\n",
    "# print(training_errors)\n",
    "# print(test_errors)\n"
   ]
  },
  {
   "cell_type": "markdown",
   "metadata": {},
   "source": [
    "#### Final Qs:\n",
    "> explain whether you think the model is underfitting or not, and how much data you need before getting the optimal test error.\n",
    "\n",
    "The model is definitely not overfitting because test error is staying down with train error. I don't think the model is underfitting either because it isn't doing worse on more data, it appears to have plateaued at a min-test MSE."
   ]
  }
 ],
 "metadata": {
  "kernelspec": {
   "display_name": "base",
   "language": "python",
   "name": "python3"
  },
  "language_info": {
   "codemirror_mode": {
    "name": "ipython",
    "version": 3
   },
   "file_extension": ".py",
   "mimetype": "text/x-python",
   "name": "python",
   "nbconvert_exporter": "python",
   "pygments_lexer": "ipython3",
   "version": "3.12.2"
  }
 },
 "nbformat": 4,
 "nbformat_minor": 2
}
